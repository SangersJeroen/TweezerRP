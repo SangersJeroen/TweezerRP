{
 "cells": [
  {
   "cell_type": "code",
   "execution_count": 1,
   "metadata": {},
   "outputs": [],
   "source": [
    "import numpy as np\n",
    "import matplotlib.pyplot as plt\n",
    "from matplotlib.animation import FuncAnimation\n",
    "import time\n",
    "import trackpy as tp\n",
    "import pims\n",
    "import matplotlib as mpl\n",
    "import scipy.linalg as linalg"
   ]
  },
  {
   "cell_type": "code",
   "execution_count": 2,
   "metadata": {},
   "outputs": [],
   "source": [
    "\n",
    "def calculateNoise(I):\n",
    "    '''\n",
    "    #regular inline code      threshold = noisecalculator(I);\n",
    "    #regular function code    function [ threshold ] = noisecalculator( I )\n",
    "    # now comes the noisecalculator\n",
    "    # This function calculates the amount of noise in an image. The returned\n",
    "    # value 'noiseI' is the noise intensity which should be removed from all\n",
    "    # images in a .tif file.\n",
    "    # It's probably sufficient to run this function once for every .tif file,\n",
    "    # since approximately all images in the file contain the same amount of\n",
    "    # noise. This will reduce the calculation time drastically. '''\n",
    "        \n",
    "    # Delete background intensity\n",
    "    In = I.flatten()           # Most Python functions don't work for a 2D array, so In has to be flattened.\n",
    "    Im = np.sort(In)            # A sorted list of I, with background intensity. \n",
    "    plt.figure()\n",
    "    plt.title('Sorted intensity values')\n",
    "    plt.xlabel('x')   \n",
    "    plt.ylabel('y')   \n",
    "    plt.grid()\n",
    "    plt.plot(Im)                # In this plot it can be seen that Im has been correctly sorted. \n",
    "    med = np.median(Im)         # The median of IM can be calculated from the flattened sorted array Im.       \n",
    "    Imed = abs(I - med)\n",
    "\n",
    "\n",
    "    # Calculate the noise intensity\n",
    "    ilst = np.sort(Imed)                    # To create a sorted list of all present intensities.\n",
    "    ilstflat = np.sort(ilst.flatten())      # ilst has to be flattened to find the max value with Python.\n",
    "    ilst_t = ilst.transpose()       \n",
    "    ilstflat_t = np.sort(ilst_t.flatten())  # With the normal flatten function the rows are put bewelow eacht other, but we want to put the columns next to each other. Thus the transposed version of ilst is needed.\n",
    "    b = len(Im)\n",
    "    x = np.arange(1,b+1)\n",
    "    Ihalf = (max(In)-med)/2\n",
    "    # Ihalf=max(ilstflat)/2\n",
    "\n",
    "    # Make sure that the flattened ilst is also sorted, otherwise the wrong index is found.\n",
    "    xIhalf_value = list(filter(lambda i: i > Ihalf, ilstflat_t))[0]         # This function gives the first value where ilst > Ihalf. With this value it can be checked if the position calculated in the next line is correct.\n",
    "    xIhalf = next(x for x, val in enumerate(ilstflat_t)\n",
    "                                      if val > Ihalf)                           # Here the position of the first index with a value bigger than Ihalf is found.\n",
    "    range_up=int(np.floor(b/2))\n",
    "    coeff1= np.polyfit(x[0:range_up], ilstflat_t[0:range_up],1)      \n",
    "    coeff2 = np.polyfit(x[int(xIhalf):b], ilstflat_t[int(xIhalf):b], 1)     # Makes a linear fit to the highest half of all intensities in 'ilist'. \n",
    "    if show:\n",
    "        plt.figure()\n",
    "        plt.xlabel('x')\n",
    "        plt.ylabel('y')\n",
    "        plt.title('Noise intensity')\n",
    "        plt.grid()\n",
    "        plt.plot(x,np.sort(ilstflat_t),'b-')    \n",
    "\n",
    "    # The rightmost intersection is the chosen noise intensity which will be removed from all images.\n",
    "    fit1 = np.polyval(coeff1,x)                                     # Returns an array of all values of the fitted line for every x coordinate.\n",
    "    fit2 = np.polyval(coeff2,x)                                         \n",
    "    xcross=round((coeff1[1]-coeff2[1])/(coeff2[0]-coeff1[0]))\n",
    "    ycross= np.polyval(coeff1,xcross)\n",
    "    fit=np.concatenate([fit1[0:int(xcross-1)],fit2[int(xcross-1):]])\n",
    "    if show:\n",
    "        plt.plot(x,np.sort(ilstflat_t),'b-', x,fit,'r'), plt.ylim([0,max(ilstflat)])\n",
    "    scale=max(x)/max(ilstflat)\n",
    "    dist=np.sqrt((x-xcross)**2+(ycross-ilstflat_t*scale)**2)        # Calculates the difference between the true intensities and the values of crossing fitted lines.\n",
    "    xmindist = next(x for x, val in enumerate(dist) \n",
    "                                  if val == min(dist))              # Calculates the x value of the rightmost intersection of the fitted line and the curve of all true intensities.\n",
    "    threshold=ilstflat_t[(xmindist-1)]+np.std(ilst)                 # Calculates the intensity, which belongs to the above calculated x value. This equals the intensity of the noise which should be delete.\n",
    "    if show:\n",
    "        plt.plot(x,np.sort(ilstflat_t),'b-', x,fit,'k', xcross,ycross,'kx', xmindist, ilstflat_t[xmindist],'mo', [0,max(x)],[threshold,threshold],'r')     \n",
    "    return threshold"
   ]
  },
  {
   "cell_type": "code",
   "execution_count": null,
   "metadata": {},
   "outputs": [],
   "source": []
  },
  {
   "cell_type": "code",
   "execution_count": 3,
   "metadata": {},
   "outputs": [
    {
     "name": "stdout",
     "output_type": "stream",
     "text": [
      "['bead 2 0 mw_0.mat', 'bead 2 0 mw_0.tif', 'bead 2 10 mw_0.mat', 'bead 2 10 mw_0.tif', 'bead 2 20 mw_0.mat', 'bead 2 20 mw_0.tif', 'bead 2 30 mw_0.mat', 'bead 2 30 mw_0.tif', 'bead 2 40 mw take 2_0.mat', 'bead 2 40 mw take 2_0.tif', 'bead 2 40 mw_0.mat', 'bead 2 40 mw_0.tif']\n",
      "['bead 2 0 mw_0.tif', 'bead 2 10 mw_0.tif', 'bead 2 20 mw_0.tif', 'bead 2 30 mw_0.tif', 'bead 2 40 mw take 2_0.tif', 'bead 2 40 mw_0.tif']\n"
     ]
    }
   ],
   "source": [
    "from os import listdir\n",
    "from os.path import isfile, join\n",
    "\n",
    "mypath = \"..\\\\Matlab\\\\Bead\"\n",
    "\n",
    "onlyfiles = [f for f in listdir(mypath) if isfile(join(mypath, f))]\n",
    "\n",
    "only_tif_files = [f for f in onlyfiles if \".mat\" not in f]\n",
    "\n",
    "print(onlyfiles)\n",
    "print(only_tif_files)"
   ]
  },
  {
   "cell_type": "code",
   "execution_count": null,
   "metadata": {},
   "outputs": [],
   "source": []
  },
  {
   "cell_type": "code",
   "execution_count": 14,
   "metadata": {},
   "outputs": [
    {
     "data": {
      "image/png": "[encoded data removed]",
      "text/plain": [
       "<Figure size 432x288 with 1 Axes>"
      ]
     },
     "metadata": {
      "needs_background": "light"
     },
     "output_type": "display_data"
    }
   ],
   "source": [
    "k_b = 1.38*1e-23\n",
    "T = 293\n",
    "l_pixel = 4.68*1e-8\n",
    "show = 0\n"
   ]
  },
  {
   "cell_type": "code",
   "execution_count": 5,
   "metadata": {},
   "outputs": [],
   "source": [
    "\n",
    "def k_trap(x):  \n",
    "       # replace nans by average\n",
    "    x_ = np.where(np.isnan(x), np.nanmean(x), x)\n",
    "    \n",
    "       # Calculate variance and covariance\n",
    "    var_x = np.sum((x_- np.mean(x_))**2)/(len(x_)+1)\n",
    "    \n",
    "    k_trap = k_b*T/(var_x)*1e3\n",
    "    return k_trap\n",
    "\n",
    "    \n",
    "def ellipse_calc(x,y):  \n",
    "       # replace nans by average\n",
    "    x_ = np.where(np.isnan(x), np.nanmean(x), x)\n",
    "    y_ = np.where(np.isnan(y), np.nanmean(y), y)\n",
    "    \n",
    "       # Calculate variance and covariance\n",
    "    var_x = np.sum((x_-np.mean(x_))**2)/(len(x)+1)\n",
    "    var_y = np.sum((y_-np.mean(y_))**2)/(len(y)+1)\n",
    "    cov = np.sum((x_-np.mean(x_))*(y_-np.mean(y_))/(len(x_)+1))\n",
    "    \n",
    "    cov_matrix = np.asarray([[var_x, cov],[cov,var_y]])\n",
    "    evals,evecs = linalg.eig(cov_matrix)\n",
    "    evecs_ = evals*evecs\n",
    "    plt.plot(x,y, linestyle='none',marker='x',zorder=1)\n",
    "    plt.quiver(np.nanmean(x),np.nanmean(y), -evecs_[1,:],-evecs_[0,:],zorder=2, units='xy', scale=1, width=1e-8, headwidth=4)\n",
    "\n",
    "    \n",
    "    a = np.max(evals)\n",
    "    b = np.min(evals)\n",
    "    print(a)\n",
    "    print(b)\n",
    "    index_a = np.where(evals == a)[0]\n",
    "    theta = np.arctan(evecs[0,index_a]/evecs[1,index_a])\n",
    "    print('theta =', theta)\n",
    "    plt.show()\n",
    "    return a,b,theta\n",
    "\n",
    "def trap_calc(a,b,theta, theta_i):\n",
    "    ''' Use function to calculate trap constant in arbitrary direction using the covariance ellipse.\n",
    "    returns trap constant in any arbitrary direction in pN/nm\n",
    "    a = length of semi-major axis of covariance ellipse\n",
    "    b = length of semi-minor axis of covariance ellipse\n",
    "    theta = angle of semi-major with respect to the x-axis in radians\n",
    "    theta_i = angle of any arbitrary direction with respect to the x-axis in radians  '''\n",
    "    \n",
    "    phi = theta_i - theta  # relative angle between major axis and arbitrary direction\n",
    "    r = a*b/(np.sqrt(b*np.cos(phi))**2 + (a*np.sin(phi))**2)\n",
    "    k_trap = k_b*T/(r)*1e3   #pN/nM\n",
    "    return k_trap                  "
   ]
  },
  {
   "cell_type": "code",
   "execution_count": null,
   "metadata": {},
   "outputs": [],
   "source": [
    "frames = pims.open(fileloc)     # import file\n",
    "threshold = calculateNoise(frames[0])   # Calculate noise threshold of first frame\n",
    "f = tp.batch(frames,15, minmass = 100, maxsize=10, threshold=threshold, topn=1)    # Find bead location for all frames\n",
    "X = f['x']\n",
    "Y = f['y']\n",
    "\n",
    "a,b,theta = ellipse_calc(X*l_pixel,Y*l_pixel)\n",
    "k_x = trap_calc(a,b,theta,0)\n",
    "k_trap_x = k_trap(X*l_pixel)\n",
    "k_trap_y = k_trap(Y*l_pixel)"
   ]
  },
  {
   "cell_type": "code",
   "execution_count": 14,
   "metadata": {
    "tags": []
   },
   "outputs": [
    {
     "name": "stdout",
     "output_type": "stream",
     "text": [
      "..\\Matlab\\Bead\\bead 2 0 mw_0.tif\n"
     ]
    },
    {
     "ename": "UnknownFormatError",
     "evalue": "All handlers returned exceptions:\n<class 'pims.tiff_stack.TiffStack_tifffile'> errored: 'NoneType' object has no attribute 'TiffFile'\n<class 'pims.imageio_reader.ImageIOReader'> errored: The ImageIOReader requires imageio and (for imageio >= 2.5) imageio-ffmpeg to work.\n<class 'pims.bioformats.BioformatsReader'> errored: 'NoneType' object has no attribute 'isJVMStarted'\n",
     "output_type": "error",
     "traceback": [
      "\u001b[1;31m---------------------------------------------------------------------------\u001b[0m",
      "\u001b[1;31mUnknownFormatError\u001b[0m                        Traceback (most recent call last)",
      "\u001b[1;32m<ipython-input-14-8dec8758a273>\u001b[0m in \u001b[0;36m<module>\u001b[1;34m\u001b[0m\n\u001b[0;32m      9\u001b[0m \u001b[1;32mfor\u001b[0m \u001b[0mi\u001b[0m \u001b[1;32min\u001b[0m \u001b[0mrange\u001b[0m\u001b[1;33m(\u001b[0m\u001b[1;36m0\u001b[0m\u001b[1;33m,\u001b[0m\u001b[0mlen\u001b[0m\u001b[1;33m(\u001b[0m\u001b[0monly_tif_files\u001b[0m\u001b[1;33m)\u001b[0m\u001b[1;33m+\u001b[0m\u001b[1;36m1\u001b[0m\u001b[1;33m)\u001b[0m\u001b[1;33m:\u001b[0m\u001b[1;33m\u001b[0m\u001b[1;33m\u001b[0m\u001b[0m\n\u001b[0;32m     10\u001b[0m     \u001b[0mprint\u001b[0m\u001b[1;33m(\u001b[0m\u001b[0mstr\u001b[0m\u001b[1;33m(\u001b[0m\u001b[0mmypath\u001b[0m\u001b[1;33m+\u001b[0m\u001b[1;34m'\\\\'\u001b[0m\u001b[1;33m+\u001b[0m\u001b[0monly_tif_files\u001b[0m\u001b[1;33m[\u001b[0m\u001b[0mi\u001b[0m\u001b[1;33m]\u001b[0m\u001b[1;33m)\u001b[0m\u001b[1;33m)\u001b[0m\u001b[1;33m\u001b[0m\u001b[1;33m\u001b[0m\u001b[0m\n\u001b[1;32m---> 11\u001b[1;33m     \u001b[0mframes\u001b[0m \u001b[1;33m=\u001b[0m \u001b[0mpims\u001b[0m\u001b[1;33m.\u001b[0m\u001b[0mopen\u001b[0m\u001b[1;33m(\u001b[0m\u001b[0mstr\u001b[0m\u001b[1;33m(\u001b[0m\u001b[0mmypath\u001b[0m\u001b[1;33m+\u001b[0m\u001b[1;34m'\\\\'\u001b[0m\u001b[1;33m+\u001b[0m\u001b[0monly_tif_files\u001b[0m\u001b[1;33m[\u001b[0m\u001b[0mi\u001b[0m\u001b[1;33m]\u001b[0m\u001b[1;33m)\u001b[0m\u001b[1;33m)\u001b[0m\u001b[1;33m\u001b[0m\u001b[1;33m\u001b[0m\u001b[0m\n\u001b[0m\u001b[0;32m     12\u001b[0m     \u001b[0mthreshold\u001b[0m \u001b[1;33m=\u001b[0m \u001b[0mcalculateNoise\u001b[0m\u001b[1;33m(\u001b[0m\u001b[0mframes\u001b[0m\u001b[1;33m[\u001b[0m\u001b[1;36m0\u001b[0m\u001b[1;33m]\u001b[0m\u001b[1;33m)\u001b[0m\u001b[1;33m\u001b[0m\u001b[1;33m\u001b[0m\u001b[0m\n\u001b[0;32m     13\u001b[0m     \u001b[0mf\u001b[0m \u001b[1;33m=\u001b[0m \u001b[0mtp\u001b[0m\u001b[1;33m.\u001b[0m\u001b[0mbatch\u001b[0m\u001b[1;33m(\u001b[0m\u001b[0mframes\u001b[0m\u001b[1;33m,\u001b[0m\u001b[1;36m15\u001b[0m\u001b[1;33m,\u001b[0m \u001b[0mminmass\u001b[0m \u001b[1;33m=\u001b[0m \u001b[1;36m100\u001b[0m\u001b[1;33m,\u001b[0m \u001b[0mmaxsize\u001b[0m\u001b[1;33m=\u001b[0m\u001b[1;36m10\u001b[0m\u001b[1;33m,\u001b[0m \u001b[0mthreshold\u001b[0m\u001b[1;33m=\u001b[0m\u001b[0mthreshold\u001b[0m\u001b[1;33m,\u001b[0m \u001b[0mtopn\u001b[0m\u001b[1;33m=\u001b[0m\u001b[1;36m1\u001b[0m\u001b[1;33m)\u001b[0m\u001b[1;33m\u001b[0m\u001b[1;33m\u001b[0m\u001b[0m\n",
      "\u001b[1;32m~\\AppData\\Roaming\\Python\\Python38\\site-packages\\pims\\api.py\u001b[0m in \u001b[0;36mopen\u001b[1;34m(sequence, **kwargs)\u001b[0m\n\u001b[0;32m    207\u001b[0m             \u001b[0mwarn\u001b[0m\u001b[1;33m(\u001b[0m\u001b[0mmessage\u001b[0m\u001b[1;33m)\u001b[0m\u001b[1;33m\u001b[0m\u001b[1;33m\u001b[0m\u001b[0m\n\u001b[0;32m    208\u001b[0m             \u001b[0mexceptions\u001b[0m \u001b[1;33m+=\u001b[0m \u001b[0mmessage\u001b[0m \u001b[1;33m+\u001b[0m \u001b[1;34m'\\n'\u001b[0m\u001b[1;33m\u001b[0m\u001b[1;33m\u001b[0m\u001b[0m\n\u001b[1;32m--> 209\u001b[1;33m     \u001b[1;32mraise\u001b[0m \u001b[0mUnknownFormatError\u001b[0m\u001b[1;33m(\u001b[0m\u001b[1;34m\"All handlers returned exceptions:\\n\"\u001b[0m \u001b[1;33m+\u001b[0m \u001b[0mexceptions\u001b[0m\u001b[1;33m)\u001b[0m\u001b[1;33m\u001b[0m\u001b[1;33m\u001b[0m\u001b[0m\n\u001b[0m\u001b[0;32m    210\u001b[0m \u001b[1;33m\u001b[0m\u001b[0m\n\u001b[0;32m    211\u001b[0m \u001b[1;33m\u001b[0m\u001b[0m\n",
      "\u001b[1;31mUnknownFormatError\u001b[0m: All handlers returned exceptions:\n<class 'pims.tiff_stack.TiffStack_tifffile'> errored: 'NoneType' object has no attribute 'TiffFile'\n<class 'pims.imageio_reader.ImageIOReader'> errored: The ImageIOReader requires imageio and (for imageio >= 2.5) imageio-ffmpeg to work.\n<class 'pims.bioformats.BioformatsReader'> errored: 'NoneType' object has no attribute 'isJVMStarted'\n"
     ]
    }
   ],
   "source": [
    "ax_num = len(only_tif_files)\n",
    "\n",
    "fig, ax = plt.subplots(figsize=(6,6), dpi=250)\n",
    "\n",
    "a = np.zeros(len(only_tif_files))\n",
    "b = np.zeros(len(only_tif_files))\n",
    "t = np.zeros(len(only_tif_files))\n",
    "\n",
    "for i in range(0,len(only_tif_files)+1):\n",
    "    print(str(mypath+'\\\\'+only_tif_files[i]))\n",
    "    frames = pims.open(str(mypath+'\\\\'+only_tif_files[i]))\n",
    "    threshold = calculateNoise(frames[0])\n",
    "    f = tp.batch(frames,15, minmass = 100, maxsize=10, threshold=threshold, topn=1)\n",
    "    X = f['x']\n",
    "    Y = f['y']\n",
    "    a[i], b[i], theta[i] = ellipse_calc(X*l_pixel,Y*l_pixel)\n",
    "\n",
    "ax[0] = plt.plot(a, label='a')\n",
    "ax[1] = plt.plot(b, label='b')\n",
    "plt.show()\n",
    "\n",
    "\n",
    "\n",
    "\n",
    "\n"
   ]
  },
  {
   "cell_type": "code",
   "execution_count": null,
   "metadata": {},
   "outputs": [],
   "source": [
    "# %matplotlib notebook\n",
    "\n",
    "fig, ax = plt.subplots(nrows=1,ncols=2,figsize=(10,4))\n",
    "line, = ax[0].plot(0, 0, marker=\"1\", color=\"black\")\n",
    "txt = ax[0].text(0,0,'o', color='white')\n",
    "ani_im = ax[0].imshow(frames[0], origin='lower')\n",
    "\n",
    "ax[0].set_ylim(0,np.shape(frames)[1])\n",
    "ax[0].set_xlim(0,np.shape(frames)[2])\n",
    "\n",
    "linex, = ax[1].plot(0,0, label='y position')\n",
    "liney, = ax[1].plot(0,0, label='x position')\n",
    "\n",
    "ax[1].set_xlim(0,np.shape(frames)[0])\n",
    "ax[1].set_ylim(int(np.min((X,Y))-1), int(np.max((X,Y)))+1)\n",
    "\n",
    "ax[1].legend()\n",
    "\n",
    "def animation_frame(iterant):\n",
    "    ani_im.set_array(frames[iterant])\n",
    "\n",
    "    #fig.set_title(str(iterant))\n",
    "\n",
    "    line.set_xdata(X[iterant])\n",
    "    line.set_ydata(Y[iterant])\n",
    "#     txt.set_position((Yest[iterant],Xest[iterant]+10))\n",
    "#     txt.set_text( ( str(Xest[iterant])[0:3],str(Yest[iterant])[0:3] ) )\n",
    "#     txt.set_color(color[iterant])\n",
    "\n",
    "    linex.set_xdata(np.arange(iterant))\n",
    "    liney.set_xdata(np.arange(iterant))\n",
    "    linex.set_ydata(X[0:iterant])\n",
    "    liney.set_ydata(Y[0:iterant])\n",
    "    return [line,linex,liney]\n",
    "\n",
    "animation = FuncAnimation(fig, func=animation_frame, frames=np.arange(np.shape(frames)[0]), interval=10)\n",
    "plt.show()\n"
   ]
  }
 ],
 "metadata": {
  "kernelspec": {
   "display_name": "Python 3",
   "language": "python",
   "name": "python3"
  },
  "language_info": {
   "codemirror_mode": {
    "name": "ipython",
    "version": 3
   },
   "file_extension": ".py",
   "mimetype": "text/x-python",
   "name": "python",
   "nbconvert_exporter": "python",
   "pygments_lexer": "ipython3",
   "version": "3.7.4"
  }
 },
 "nbformat": 4,
 "nbformat_minor": 2
}
